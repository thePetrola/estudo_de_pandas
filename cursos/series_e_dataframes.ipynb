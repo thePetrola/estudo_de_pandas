{
 "cells": [
  {
   "metadata": {},
   "cell_type": "markdown",
   "source": [
    "# Series e Dataframes\n",
    "\n",
    "## Series \n",
    "\n",
    "---\n",
    "Series sao conjuntos de dados unidimensionais."
   ],
   "id": "dad58eee841a06f9"
  },
  {
   "metadata": {
    "collapsed": true,
    "ExecuteTime": {
     "end_time": "2024-11-14T02:03:13.699438Z",
     "start_time": "2024-11-14T02:03:13.688128Z"
    }
   },
   "cell_type": "code",
   "outputs": [],
   "execution_count": 4,
   "source": [
    "# Dados\n",
    "lista_a = [11, 22, 33, 44, 55]\n",
    "lista_b = ['a', 'b', 'c', 'd', 'e']"
   ],
   "id": "initial_id"
  },
  {
   "metadata": {
    "ExecuteTime": {
     "end_time": "2024-11-14T02:03:30.944834Z",
     "start_time": "2024-11-14T02:03:30.940601Z"
    }
   },
   "cell_type": "code",
   "source": "import pandas as pd",
   "id": "64a4b973a0ca5a24",
   "outputs": [],
   "execution_count": 5
  },
  {
   "metadata": {
    "ExecuteTime": {
     "end_time": "2024-11-14T02:02:43.789691Z",
     "start_time": "2024-11-14T02:02:43.769174Z"
    }
   },
   "cell_type": "code",
   "outputs": [
    {
     "data": {
      "text/plain": [
       "5"
      ]
     },
     "execution_count": 2,
     "metadata": {},
     "output_type": "execute_result"
    }
   ],
   "execution_count": 2,
   "source": "len(lista_a)",
   "id": "d37d9be8b393b025"
  },
  {
   "metadata": {
    "ExecuteTime": {
     "end_time": "2024-11-14T02:02:51.673177Z",
     "start_time": "2024-11-14T02:02:51.670345Z"
    }
   },
   "cell_type": "code",
   "outputs": [
    {
     "data": {
      "text/plain": [
       "5"
      ]
     },
     "execution_count": 3,
     "metadata": {},
     "output_type": "execute_result"
    }
   ],
   "execution_count": 3,
   "source": "len(lista_b)",
   "id": "691f5dc89e1cc33"
  },
  {
   "metadata": {},
   "cell_type": "markdown",
   "source": "A delaracao se series com Pandas se faz com a funcao **pd.Serie**",
   "id": "8c9e8343956964e3"
  },
  {
   "metadata": {
    "ExecuteTime": {
     "end_time": "2024-11-14T02:04:29.813071Z",
     "start_time": "2024-11-14T02:04:29.808969Z"
    }
   },
   "cell_type": "code",
   "source": [
    "serie_1 = pd.Series(lista_a)\n",
    "serie_1"
   ],
   "id": "d67edb2ff4b1b337",
   "outputs": [
    {
     "data": {
      "text/plain": [
       "0    11\n",
       "1    22\n",
       "2    33\n",
       "3    44\n",
       "4    55\n",
       "dtype: int64"
      ]
     },
     "execution_count": 8,
     "metadata": {},
     "output_type": "execute_result"
    }
   ],
   "execution_count": 8
  },
  {
   "metadata": {},
   "cell_type": "markdown",
   "source": "Posso chamar os mesmos metodos e indexing do **NumPy**",
   "id": "8d890570035bac69"
  },
  {
   "metadata": {
    "ExecuteTime": {
     "end_time": "2024-11-14T02:04:48.732724Z",
     "start_time": "2024-11-14T02:04:48.720863Z"
    }
   },
   "cell_type": "code",
   "outputs": [
    {
     "data": {
      "text/plain": [
       "55"
      ]
     },
     "execution_count": 9,
     "metadata": {},
     "output_type": "execute_result"
    }
   ],
   "execution_count": 9,
   "source": "serie_1[4]",
   "id": "e5226215f3f5342d"
  },
  {
   "metadata": {
    "ExecuteTime": {
     "end_time": "2024-11-14T02:07:23.417004Z",
     "start_time": "2024-11-14T02:07:23.405965Z"
    }
   },
   "cell_type": "code",
   "source": "serie_1.ndim",
   "id": "402b3671dab196e0",
   "outputs": [
    {
     "data": {
      "text/plain": [
       "1"
      ]
     },
     "execution_count": 10,
     "metadata": {},
     "output_type": "execute_result"
    }
   ],
   "execution_count": 10
  },
  {
   "metadata": {
    "ExecuteTime": {
     "end_time": "2024-11-14T02:07:41.140576Z",
     "start_time": "2024-11-14T02:07:41.125414Z"
    }
   },
   "cell_type": "code",
   "source": "serie_1 * 5",
   "id": "77401bb180f8e65d",
   "outputs": [
    {
     "data": {
      "text/plain": [
       "0     55\n",
       "1    110\n",
       "2    165\n",
       "3    220\n",
       "4    275\n",
       "dtype: int64"
      ]
     },
     "execution_count": 11,
     "metadata": {},
     "output_type": "execute_result"
    }
   ],
   "execution_count": 11
  },
  {
   "metadata": {
    "ExecuteTime": {
     "end_time": "2024-11-14T02:07:53.544755Z",
     "start_time": "2024-11-14T02:07:53.537898Z"
    }
   },
   "cell_type": "code",
   "source": "serie_1.shape",
   "id": "504277f7227e4668",
   "outputs": [
    {
     "data": {
      "text/plain": [
       "(5,)"
      ]
     },
     "execution_count": 12,
     "metadata": {},
     "output_type": "execute_result"
    }
   ],
   "execution_count": 12
  },
  {
   "metadata": {
    "ExecuteTime": {
     "end_time": "2024-11-14T02:09:25.522580Z",
     "start_time": "2024-11-14T02:09:25.518189Z"
    }
   },
   "cell_type": "code",
   "source": "serie_1.cumsum()",
   "id": "e290e78affa7263a",
   "outputs": [
    {
     "data": {
      "text/plain": [
       "0     11\n",
       "1     33\n",
       "2     66\n",
       "3    110\n",
       "4    165\n",
       "dtype: int64"
      ]
     },
     "execution_count": 14,
     "metadata": {},
     "output_type": "execute_result"
    }
   ],
   "execution_count": 14
  },
  {
   "metadata": {},
   "cell_type": "markdown",
   "source": "Posso utilizar os itens de outra lista como indice dentro do pandas",
   "id": "e88636cc747dc675"
  },
  {
   "metadata": {
    "ExecuteTime": {
     "end_time": "2024-11-14T02:10:51.291165Z",
     "start_time": "2024-11-14T02:10:51.272147Z"
    }
   },
   "cell_type": "code",
   "source": [
    "serie_1 = pd.Series(lista_a, index=lista_b)\n",
    "serie_1"
   ],
   "id": "ae804c099c28a125",
   "outputs": [
    {
     "data": {
      "text/plain": [
       "a    11\n",
       "b    22\n",
       "c    33\n",
       "d    44\n",
       "e    55\n",
       "dtype: int64"
      ]
     },
     "execution_count": 17,
     "metadata": {},
     "output_type": "execute_result"
    }
   ],
   "execution_count": 17
  },
  {
   "metadata": {},
   "cell_type": "markdown",
   "source": "Posso criar Series do pandas com Arrays do **NumPy**",
   "id": "750423e5469e46e8"
  },
  {
   "metadata": {
    "ExecuteTime": {
     "end_time": "2024-11-14T02:14:25.642947Z",
     "start_time": "2024-11-14T02:14:25.634015Z"
    }
   },
   "cell_type": "code",
   "source": [
    "import numpy as np\n",
    "\n",
    "arr = np.arange(10)**2\n",
    "arr"
   ],
   "id": "507ead108bd57efe",
   "outputs": [
    {
     "data": {
      "text/plain": [
       "array([ 0,  1,  4,  9, 16, 25, 36, 49, 64, 81])"
      ]
     },
     "execution_count": 18,
     "metadata": {},
     "output_type": "execute_result"
    }
   ],
   "execution_count": 18
  },
  {
   "metadata": {
    "ExecuteTime": {
     "end_time": "2024-11-14T02:14:47.750218Z",
     "start_time": "2024-11-14T02:14:47.742930Z"
    }
   },
   "cell_type": "code",
   "source": [
    "serie_3 = pd.Series(arr)\n",
    "serie_3"
   ],
   "id": "8eb0aea3832a9a91",
   "outputs": [
    {
     "data": {
      "text/plain": [
       "0     0\n",
       "1     1\n",
       "2     4\n",
       "3     9\n",
       "4    16\n",
       "5    25\n",
       "6    36\n",
       "7    49\n",
       "8    64\n",
       "9    81\n",
       "dtype: int64"
      ]
     },
     "execution_count": 20,
     "metadata": {},
     "output_type": "execute_result"
    }
   ],
   "execution_count": 20
  },
  {
   "metadata": {},
   "cell_type": "markdown",
   "source": "Tambem posso criar Series com dicionarios. Com um excelente detalhe em que o indice sera igual aos indices do dicionario.",
   "id": "827a459e3bc292a6"
  },
  {
   "metadata": {
    "ExecuteTime": {
     "end_time": "2024-11-14T02:16:25.947476Z",
     "start_time": "2024-11-14T02:16:25.938692Z"
    }
   },
   "cell_type": "code",
   "source": [
    "dict = {'a': 1, 'b': 2, 'c': 3, 'd': 4, 'e': 5}\n",
    "\n",
    "serie_dict = pd.Series(dict)\n",
    "serie_dict"
   ],
   "id": "55e6eaf6dfb459e9",
   "outputs": [
    {
     "data": {
      "text/plain": [
       "a    1\n",
       "b    2\n",
       "c    3\n",
       "d    4\n",
       "e    5\n",
       "dtype: int64"
      ]
     },
     "execution_count": 21,
     "metadata": {},
     "output_type": "execute_result"
    }
   ],
   "execution_count": 21
  },
  {
   "metadata": {},
   "cell_type": "markdown",
   "source": [
    "## Dataframes\n",
    "\n",
    "---\n",
    "Sao colecoes bidimensionais chave e valor. Os valores sempre serao Series."
   ],
   "id": "d438c0aab8c03da1"
  },
  {
   "metadata": {
    "ExecuteTime": {
     "end_time": "2024-11-14T02:20:10.315700Z",
     "start_time": "2024-11-14T02:20:10.306988Z"
    }
   },
   "cell_type": "code",
   "source": [
    "dict_2 = {\n",
    "    \"coluna_1\": np.arange(10)**2,\n",
    "    \"coluna_2\": np.arange(10)*5,\n",
    "    \"coluna_3\": np.ones(10),\n",
    "}\n",
    "dict_2 "
   ],
   "id": "fb7bac095358927f",
   "outputs": [
    {
     "data": {
      "text/plain": [
       "{'coluna_1': array([ 0,  1,  4,  9, 16, 25, 36, 49, 64, 81]),\n",
       " 'coluna_2': array([ 0,  5, 10, 15, 20, 25, 30, 35, 40, 45]),\n",
       " 'coluna_3': array([1., 1., 1., 1., 1., 1., 1., 1., 1., 1.])}"
      ]
     },
     "execution_count": 23,
     "metadata": {},
     "output_type": "execute_result"
    }
   ],
   "execution_count": 23
  },
  {
   "metadata": {
    "ExecuteTime": {
     "end_time": "2024-11-14T02:20:33.529875Z",
     "start_time": "2024-11-14T02:20:33.514736Z"
    }
   },
   "cell_type": "code",
   "source": [
    "df1 = pd.DataFrame(dict_2)\n",
    "df1"
   ],
   "id": "fa1e0046559e8877",
   "outputs": [
    {
     "data": {
      "text/plain": [
       "   coluna_1  coluna_2  coluna_3\n",
       "0         0         0       1.0\n",
       "1         1         5       1.0\n",
       "2         4        10       1.0\n",
       "3         9        15       1.0\n",
       "4        16        20       1.0\n",
       "5        25        25       1.0\n",
       "6        36        30       1.0\n",
       "7        49        35       1.0\n",
       "8        64        40       1.0\n",
       "9        81        45       1.0"
      ],
      "text/html": [
       "<div>\n",
       "<style scoped>\n",
       "    .dataframe tbody tr th:only-of-type {\n",
       "        vertical-align: middle;\n",
       "    }\n",
       "\n",
       "    .dataframe tbody tr th {\n",
       "        vertical-align: top;\n",
       "    }\n",
       "\n",
       "    .dataframe thead th {\n",
       "        text-align: right;\n",
       "    }\n",
       "</style>\n",
       "<table border=\"1\" class=\"dataframe\">\n",
       "  <thead>\n",
       "    <tr style=\"text-align: right;\">\n",
       "      <th></th>\n",
       "      <th>coluna_1</th>\n",
       "      <th>coluna_2</th>\n",
       "      <th>coluna_3</th>\n",
       "    </tr>\n",
       "  </thead>\n",
       "  <tbody>\n",
       "    <tr>\n",
       "      <th>0</th>\n",
       "      <td>0</td>\n",
       "      <td>0</td>\n",
       "      <td>1.0</td>\n",
       "    </tr>\n",
       "    <tr>\n",
       "      <th>1</th>\n",
       "      <td>1</td>\n",
       "      <td>5</td>\n",
       "      <td>1.0</td>\n",
       "    </tr>\n",
       "    <tr>\n",
       "      <th>2</th>\n",
       "      <td>4</td>\n",
       "      <td>10</td>\n",
       "      <td>1.0</td>\n",
       "    </tr>\n",
       "    <tr>\n",
       "      <th>3</th>\n",
       "      <td>9</td>\n",
       "      <td>15</td>\n",
       "      <td>1.0</td>\n",
       "    </tr>\n",
       "    <tr>\n",
       "      <th>4</th>\n",
       "      <td>16</td>\n",
       "      <td>20</td>\n",
       "      <td>1.0</td>\n",
       "    </tr>\n",
       "    <tr>\n",
       "      <th>5</th>\n",
       "      <td>25</td>\n",
       "      <td>25</td>\n",
       "      <td>1.0</td>\n",
       "    </tr>\n",
       "    <tr>\n",
       "      <th>6</th>\n",
       "      <td>36</td>\n",
       "      <td>30</td>\n",
       "      <td>1.0</td>\n",
       "    </tr>\n",
       "    <tr>\n",
       "      <th>7</th>\n",
       "      <td>49</td>\n",
       "      <td>35</td>\n",
       "      <td>1.0</td>\n",
       "    </tr>\n",
       "    <tr>\n",
       "      <th>8</th>\n",
       "      <td>64</td>\n",
       "      <td>40</td>\n",
       "      <td>1.0</td>\n",
       "    </tr>\n",
       "    <tr>\n",
       "      <th>9</th>\n",
       "      <td>81</td>\n",
       "      <td>45</td>\n",
       "      <td>1.0</td>\n",
       "    </tr>\n",
       "  </tbody>\n",
       "</table>\n",
       "</div>"
      ]
     },
     "execution_count": 25,
     "metadata": {},
     "output_type": "execute_result"
    }
   ],
   "execution_count": 25
  },
  {
   "metadata": {},
   "cell_type": "markdown",
   "source": "Criando Dataframe com array 2d numPy",
   "id": "561da32ec7354008"
  },
  {
   "metadata": {
    "ExecuteTime": {
     "end_time": "2024-11-14T02:26:07.206440Z",
     "start_time": "2024-11-14T02:26:07.202672Z"
    }
   },
   "cell_type": "code",
   "source": [
    "array_1 = np.arange(15).reshape(5, 3)\n",
    "array_1"
   ],
   "id": "86accdc95bde5349",
   "outputs": [
    {
     "data": {
      "text/plain": [
       "array([[ 0,  1,  2],\n",
       "       [ 3,  4,  5],\n",
       "       [ 6,  7,  8],\n",
       "       [ 9, 10, 11],\n",
       "       [12, 13, 14]])"
      ]
     },
     "execution_count": 40,
     "metadata": {},
     "output_type": "execute_result"
    }
   ],
   "execution_count": 40
  },
  {
   "metadata": {
    "ExecuteTime": {
     "end_time": "2024-11-14T02:26:10.748406Z",
     "start_time": "2024-11-14T02:26:10.743509Z"
    }
   },
   "cell_type": "code",
   "source": [
    "df2 = pd.DataFrame(array_1)\n",
    "df2"
   ],
   "id": "2819dc5c23c240c6",
   "outputs": [
    {
     "data": {
      "text/plain": [
       "    0   1   2\n",
       "0   0   1   2\n",
       "1   3   4   5\n",
       "2   6   7   8\n",
       "3   9  10  11\n",
       "4  12  13  14"
      ],
      "text/html": [
       "<div>\n",
       "<style scoped>\n",
       "    .dataframe tbody tr th:only-of-type {\n",
       "        vertical-align: middle;\n",
       "    }\n",
       "\n",
       "    .dataframe tbody tr th {\n",
       "        vertical-align: top;\n",
       "    }\n",
       "\n",
       "    .dataframe thead th {\n",
       "        text-align: right;\n",
       "    }\n",
       "</style>\n",
       "<table border=\"1\" class=\"dataframe\">\n",
       "  <thead>\n",
       "    <tr style=\"text-align: right;\">\n",
       "      <th></th>\n",
       "      <th>0</th>\n",
       "      <th>1</th>\n",
       "      <th>2</th>\n",
       "    </tr>\n",
       "  </thead>\n",
       "  <tbody>\n",
       "    <tr>\n",
       "      <th>0</th>\n",
       "      <td>0</td>\n",
       "      <td>1</td>\n",
       "      <td>2</td>\n",
       "    </tr>\n",
       "    <tr>\n",
       "      <th>1</th>\n",
       "      <td>3</td>\n",
       "      <td>4</td>\n",
       "      <td>5</td>\n",
       "    </tr>\n",
       "    <tr>\n",
       "      <th>2</th>\n",
       "      <td>6</td>\n",
       "      <td>7</td>\n",
       "      <td>8</td>\n",
       "    </tr>\n",
       "    <tr>\n",
       "      <th>3</th>\n",
       "      <td>9</td>\n",
       "      <td>10</td>\n",
       "      <td>11</td>\n",
       "    </tr>\n",
       "    <tr>\n",
       "      <th>4</th>\n",
       "      <td>12</td>\n",
       "      <td>13</td>\n",
       "      <td>14</td>\n",
       "    </tr>\n",
       "  </tbody>\n",
       "</table>\n",
       "</div>"
      ]
     },
     "execution_count": 41,
     "metadata": {},
     "output_type": "execute_result"
    }
   ],
   "execution_count": 41
  },
  {
   "metadata": {},
   "cell_type": "markdown",
   "source": "Posso importar arquivos CSV convertendo-os em dataframes.",
   "id": "95c1209f140880d3"
  },
  {
   "metadata": {
    "ExecuteTime": {
     "end_time": "2024-11-14T02:33:11.896197Z",
     "start_time": "2024-11-14T02:33:11.879502Z"
    }
   },
   "cell_type": "code",
   "source": [
    "lista_gira = pd.read_csv('./csvs/lista_outubro.csv.csv')\n",
    "lista_gira"
   ],
   "id": "41fd8185db73dd3d",
   "outputs": [
    {
     "data": {
      "text/plain": [
       "              Timestamp                Email Address  \\\n",
       "0   10/23/2023 22:08:55  zemauriciomenezes@gmail.com   \n",
       "1   10/23/2023 22:09:51       profbelcosta@gmail.com   \n",
       "2   10/23/2023 22:10:58     lucio.campello@gmail.com   \n",
       "3   10/23/2023 22:12:04         lhpetrola@icloud.com   \n",
       "4   10/23/2023 22:12:47       gracisouza77@gmail.com   \n",
       "5   10/23/2023 22:13:48  bibica.bassbeth@hotmail.com   \n",
       "6   10/23/2023 22:15:20             borela@gmail.com   \n",
       "7   10/23/2023 22:15:20      gracielle25@hotmail.com   \n",
       "8   10/23/2023 22:17:23     rafa.spuzzillo@gmail.com   \n",
       "9   10/23/2023 22:19:29            drilyra@gmail.com   \n",
       "10  10/23/2023 22:39:20    guipereirasants@gmail.com   \n",
       "11  10/23/2023 22:50:47        victormefer@gmail.com   \n",
       "12  10/23/2023 22:54:35      izaiasgvieira@gmail.com   \n",
       "13   10/24/2023 0:10:36     marinacbonotto@gmail.com   \n",
       "14   10/24/2023 7:25:46         jaquelinek@gmail.com   \n",
       "15   10/24/2023 9:34:21        erikacostar@gmail.com   \n",
       "16   10/24/2023 9:51:53       bruno.dssnts@gmail.com   \n",
       "17  10/24/2023 10:27:50           nadiafap@gmail.com   \n",
       "\n",
       "                               Nome completo Data de nascimento  \\\n",
       "0           José Maurício Sant Anna Menezes          14/08/1963   \n",
       "1                 Ana Isabel Lopes da Costa          18/12/1969   \n",
       "2                Lucio Tobias Campello Silva         22/03/1969   \n",
       "3   Lucas Henrique novais de Araújo petrola          06/01/1997   \n",
       "4           Maria das Graças de Souza Silva          09/06/1953   \n",
       "5                            Bianca Bassbeth         23/11/1996   \n",
       "6                      Shakti Prates Borela          22/11/1971   \n",
       "7                  Gracielle de Souza Silva          18/10/1977   \n",
       "8                    Rafael Spuzzillo Mendes         29/05/1985   \n",
       "9                      Adriana de Paula Lyra         02/11/1970   \n",
       "10             Guilherme Pereira dos Santos          04/11/2005   \n",
       "11                 Victor Mesquita Ferreira          23/06/1994   \n",
       "12                     Izaias Godinho Vieira         13/09/1996   \n",
       "13                   Marina da Costa Bonotto         19/10/1998   \n",
       "14                 Jaqueline Kelly de Souza          30/08/1092   \n",
       "15                          Erika Rêgo Costa         03/08/1993   \n",
       "16                  Bruno dos Santos Pacheco         09/12/1994   \n",
       "17                   Nádia Batista Teixeira         18.10.1987    \n",
       "\n",
       "   Celular/whatsapp para contato  \\\n",
       "0                  (61)981875223   \n",
       "1                    61981526224   \n",
       "2                   61 981635559   \n",
       "3                    61999387022   \n",
       "4                    62984427148   \n",
       "5                    61983254769   \n",
       "6                   61 981635995   \n",
       "7                    61995405816   \n",
       "8                    61999785777   \n",
       "9                    61993150330   \n",
       "10                   61994017681   \n",
       "11                61 98205 8431    \n",
       "12                92 9 9295 6750   \n",
       "13                   61936180448   \n",
       "14                   61982744688   \n",
       "15                   61982374646   \n",
       "16                  61 981328795   \n",
       "17                61 98252-8892    \n",
       "\n",
       "   Esta será a sua primeira visita à nossa casa?  \\\n",
       "0                                            Não   \n",
       "1                                            Não   \n",
       "2                                            Sim   \n",
       "3                                            Não   \n",
       "4                                            Sim   \n",
       "5                                            Não   \n",
       "6                                            Sim   \n",
       "7                                            Não   \n",
       "8                                            Não   \n",
       "9                                            Não   \n",
       "10                                           Sim   \n",
       "11                                           Não   \n",
       "12                                           Não   \n",
       "13                                           Não   \n",
       "14                                           Não   \n",
       "15                                           Não   \n",
       "16                                           Não   \n",
       "17                                           Não   \n",
       "\n",
       "     Necessita de atendimento com o Dr. Chiang?\\nIsto se aplica apenas a problemas de saúde atualmente sob tratamento médico na Terra.  \\\n",
       "0   Sim. Confirmo que estou atualmente sob tratamento médico e me comprometo a chegar pontualmente e respeitar a ordem de atendimento.   \n",
       "1   Sim. Confirmo que estou atualmente sob tratamento médico e me comprometo a chegar pontualmente e respeitar a ordem de atendimento.   \n",
       "2                                                                                                                                  Não   \n",
       "3   Sim. Confirmo que estou atualmente sob tratamento médico e me comprometo a chegar pontualmente e respeitar a ordem de atendimento.   \n",
       "4   Sim. Confirmo que estou atualmente sob tratamento médico e me comprometo a chegar pontualmente e respeitar a ordem de atendimento.   \n",
       "5   Sim. Confirmo que estou atualmente sob tratamento médico e me comprometo a chegar pontualmente e respeitar a ordem de atendimento.   \n",
       "6   Sim. Confirmo que estou atualmente sob tratamento médico e me comprometo a chegar pontualmente e respeitar a ordem de atendimento.   \n",
       "7                                                                                                                                  Não   \n",
       "8                                                                                                                                  Não   \n",
       "9                                                                                                                                  Não   \n",
       "10                                                                                                                                 Não   \n",
       "11                                                                                                                                 Não   \n",
       "12                                                                                                                                 Não   \n",
       "13                                                                                                                                 Não   \n",
       "14                                                                                                                                 Não   \n",
       "15                                                                                                                                 Não   \n",
       "16                                                                                                                                 Não   \n",
       "17  Sim. Confirmo que estou atualmente sob tratamento médico e me comprometo a chegar pontualmente e respeitar a ordem de atendimento.   \n",
       "\n",
       "   Irá almoçar conosco? Participará da gira à tarde?  \\\n",
       "0                   Sim                          Sim   \n",
       "1                   Sim                          Sim   \n",
       "2                   Sim                          Sim   \n",
       "3                   Sim                          Sim   \n",
       "4                   Sim                          Sim   \n",
       "5                   Sim                          Sim   \n",
       "6                   Sim                          Sim   \n",
       "7                   Sim                          Sim   \n",
       "8                   Sim                          Sim   \n",
       "9                   Não                          Sim   \n",
       "10                  Não                          Sim   \n",
       "11                  Não                          Sim   \n",
       "12                  Não                          Sim   \n",
       "13                  Sim                          Sim   \n",
       "14                  Não                          Sim   \n",
       "15                  Não                          Sim   \n",
       "16                  Não                          Sim   \n",
       "17                  Sim                          Sim   \n",
       "\n",
       "   Código de Vestimenta:  \\nPara manter o respeito em nossos encontros religiosos, solicitamos que venham vestidos de forma apropriada ao ambiente. Pedimos que evitem roupas nas cores preta e/ou vermelha, bem como vestimentas coladas ao corpo, curtas e/ou decotadas. Agradecemos pela compreensão e cooperação.  \\\n",
       "0                                                                                                                                                                                                                                                          Estou ciente das orientações sobre o código de vestimenta.   \n",
       "1                                                                                                                                                                                                                                                          Estou ciente das orientações sobre o código de vestimenta.   \n",
       "2                                                                                                                                                                                                                                                          Estou ciente das orientações sobre o código de vestimenta.   \n",
       "3                                                                                                                                                                                                                                                          Estou ciente das orientações sobre o código de vestimenta.   \n",
       "4                                                                                                                                                                                                                                                          Estou ciente das orientações sobre o código de vestimenta.   \n",
       "5                                                                                                                                                                                                                                                          Estou ciente das orientações sobre o código de vestimenta.   \n",
       "6                                                                                                                                                                                                                                                          Estou ciente das orientações sobre o código de vestimenta.   \n",
       "7                                                                                                                                                                                                                                                          Estou ciente das orientações sobre o código de vestimenta.   \n",
       "8                                                                                                                                                                                                                                                          Estou ciente das orientações sobre o código de vestimenta.   \n",
       "9                                                                                                                                                                                                                                                          Estou ciente das orientações sobre o código de vestimenta.   \n",
       "10                                                                                                                                                                                                                                                         Estou ciente das orientações sobre o código de vestimenta.   \n",
       "11                                                                                                                                                                                                                                                         Estou ciente das orientações sobre o código de vestimenta.   \n",
       "12                                                                                                                                                                                                                                                         Estou ciente das orientações sobre o código de vestimenta.   \n",
       "13                                                                                                                                                                                                                                                         Estou ciente das orientações sobre o código de vestimenta.   \n",
       "14                                                                                                                                                                                                                                                         Estou ciente das orientações sobre o código de vestimenta.   \n",
       "15                                                                                                                                                                                                                                                         Estou ciente das orientações sobre o código de vestimenta.   \n",
       "16                                                                                                                                                                                                                                                         Estou ciente das orientações sobre o código de vestimenta.   \n",
       "17                                                                                                                                                                                                                                                         Estou ciente das orientações sobre o código de vestimenta.   \n",
       "\n",
       "   Em caso de desistência:\\nSolicitamos que nos informe o mais cedo possível. Nossa capacidade para a gira é de 20 participantes. A lista de participantes será divulgada no grupo de WhatsApp da casa para aqueles que tenham preenchido o formulário.\\nAqueles que preencherem o formulário após o limite de participantes serão automaticamente adicionados à lista de espera. Sempre que houver uma desistência na lista de participantes, substituiremos o nome pelo próximo da lista de espera.  \\\n",
       "0                                                                                                                                                                                                                                                                                                                                                                          Comprometo-me a comunicar minha desistência, a fim de possibilitar que outras pessoas tenham a oportunidade de participar.   \n",
       "1                                                                                                                                                                                                                                                                                                                                                                          Comprometo-me a comunicar minha desistência, a fim de possibilitar que outras pessoas tenham a oportunidade de participar.   \n",
       "2                                                                                                                                                                                                                                                                                                                                                                          Comprometo-me a comunicar minha desistência, a fim de possibilitar que outras pessoas tenham a oportunidade de participar.   \n",
       "3                                                                                                                                                                                                                                                                                                                                                                          Comprometo-me a comunicar minha desistência, a fim de possibilitar que outras pessoas tenham a oportunidade de participar.   \n",
       "4                                                                                                                                                                                                                                                                                                                                                                          Comprometo-me a comunicar minha desistência, a fim de possibilitar que outras pessoas tenham a oportunidade de participar.   \n",
       "5                                                                                                                                                                                                                                                                                                                                                                          Comprometo-me a comunicar minha desistência, a fim de possibilitar que outras pessoas tenham a oportunidade de participar.   \n",
       "6                                                                                                                                                                                                                                                                                                                                                                          Comprometo-me a comunicar minha desistência, a fim de possibilitar que outras pessoas tenham a oportunidade de participar.   \n",
       "7                                                                                                                                                                                                                                                                                                                                                                          Comprometo-me a comunicar minha desistência, a fim de possibilitar que outras pessoas tenham a oportunidade de participar.   \n",
       "8                                                                                                                                                                                                                                                                                                                                                                          Comprometo-me a comunicar minha desistência, a fim de possibilitar que outras pessoas tenham a oportunidade de participar.   \n",
       "9                                                                                                                                                                                                                                                                                                                                                                          Comprometo-me a comunicar minha desistência, a fim de possibilitar que outras pessoas tenham a oportunidade de participar.   \n",
       "10                                                                                                                                                                                                                                                                                                                                                                         Comprometo-me a comunicar minha desistência, a fim de possibilitar que outras pessoas tenham a oportunidade de participar.   \n",
       "11                                                                                                                                                                                                                                                                                                                                                                         Comprometo-me a comunicar minha desistência, a fim de possibilitar que outras pessoas tenham a oportunidade de participar.   \n",
       "12                                                                                                                                                                                                                                                                                                                                                                         Comprometo-me a comunicar minha desistência, a fim de possibilitar que outras pessoas tenham a oportunidade de participar.   \n",
       "13                                                                                                                                                                                                                                                                                                                                                                         Comprometo-me a comunicar minha desistência, a fim de possibilitar que outras pessoas tenham a oportunidade de participar.   \n",
       "14                                                                                                                                                                                                                                                                                                                                                                         Comprometo-me a comunicar minha desistência, a fim de possibilitar que outras pessoas tenham a oportunidade de participar.   \n",
       "15                                                                                                                                                                                                                                                                                                                                                                         Comprometo-me a comunicar minha desistência, a fim de possibilitar que outras pessoas tenham a oportunidade de participar.   \n",
       "16                                                                                                                                                                                                                                                                                                                                                                         Comprometo-me a comunicar minha desistência, a fim de possibilitar que outras pessoas tenham a oportunidade de participar.   \n",
       "17                                                                                                                                                                                                                                                                                                                                                                         Comprometo-me a comunicar minha desistência, a fim de possibilitar que outras pessoas tenham a oportunidade de participar.   \n",
       "\n",
       "   Pedimos encarecidamente que, antes da defumação, evitem tocar ou abraçar os membros da casa. A limpeza é realizada previamente para garantir a eficácia do trabalho e a proteção da casa, e é importante que seja respeitada.  \\\n",
       "0                                                                                                                                Estou ciente da solicitação de evitar tocar e/ou abraçar os membros da casa antes da defumação.   \n",
       "1                                                                                                                                Estou ciente da solicitação de evitar tocar e/ou abraçar os membros da casa antes da defumação.   \n",
       "2                                                                                                                                Estou ciente da solicitação de evitar tocar e/ou abraçar os membros da casa antes da defumação.   \n",
       "3                                                                                                                                Estou ciente da solicitação de evitar tocar e/ou abraçar os membros da casa antes da defumação.   \n",
       "4                                                                                                                                Estou ciente da solicitação de evitar tocar e/ou abraçar os membros da casa antes da defumação.   \n",
       "5                                                                                                                                Estou ciente da solicitação de evitar tocar e/ou abraçar os membros da casa antes da defumação.   \n",
       "6                                                                                                                                Estou ciente da solicitação de evitar tocar e/ou abraçar os membros da casa antes da defumação.   \n",
       "7                                                                                                                                Estou ciente da solicitação de evitar tocar e/ou abraçar os membros da casa antes da defumação.   \n",
       "8                                                                                                                                Estou ciente da solicitação de evitar tocar e/ou abraçar os membros da casa antes da defumação.   \n",
       "9                                                                                                                                Estou ciente da solicitação de evitar tocar e/ou abraçar os membros da casa antes da defumação.   \n",
       "10                                                                                                                               Estou ciente da solicitação de evitar tocar e/ou abraçar os membros da casa antes da defumação.   \n",
       "11                                                                                                                               Estou ciente da solicitação de evitar tocar e/ou abraçar os membros da casa antes da defumação.   \n",
       "12                                                                                                                               Estou ciente da solicitação de evitar tocar e/ou abraçar os membros da casa antes da defumação.   \n",
       "13                                                                                                                               Estou ciente da solicitação de evitar tocar e/ou abraçar os membros da casa antes da defumação.   \n",
       "14                                                                                                                               Estou ciente da solicitação de evitar tocar e/ou abraçar os membros da casa antes da defumação.   \n",
       "15                                                                                                                               Estou ciente da solicitação de evitar tocar e/ou abraçar os membros da casa antes da defumação.   \n",
       "16                                                                                                                               Estou ciente da solicitação de evitar tocar e/ou abraçar os membros da casa antes da defumação.   \n",
       "17                                                                                                                               Estou ciente da solicitação de evitar tocar e/ou abraçar os membros da casa antes da defumação.   \n",
       "\n",
       "   É aconselhável usar agasalhos e repelente, considerando que o ambiente é rural. Além disso, sugerimos o uso de calçados que possam ser facilmente retirados e colocados, já que estaremos descalços durante o trabalho.  \\\n",
       "0                                                                                                                                                                                    Estou ciente das recomendações acima.   \n",
       "1                                                                                                                                                                                    Estou ciente das recomendações acima.   \n",
       "2                                                                                                                                                                                    Estou ciente das recomendações acima.   \n",
       "3                                                                                                                                                                                    Estou ciente das recomendações acima.   \n",
       "4                                                                                                                                                                                    Estou ciente das recomendações acima.   \n",
       "5                                                                                                                                                                                    Estou ciente das recomendações acima.   \n",
       "6                                                                                                                                                                                    Estou ciente das recomendações acima.   \n",
       "7                                                                                                                                                                                    Estou ciente das recomendações acima.   \n",
       "8                                                                                                                                                                                    Estou ciente das recomendações acima.   \n",
       "9                                                                                                                                                                                    Estou ciente das recomendações acima.   \n",
       "10                                                                                                                                                                                   Estou ciente das recomendações acima.   \n",
       "11                                                                                                                                                                                   Estou ciente das recomendações acima.   \n",
       "12                                                                                                                                                                                   Estou ciente das recomendações acima.   \n",
       "13                                                                                                                                                                                   Estou ciente das recomendações acima.   \n",
       "14                                                                                                                                                                                   Estou ciente das recomendações acima.   \n",
       "15                                                                                                                                                                                   Estou ciente das recomendações acima.   \n",
       "16                                                                                                                                                                                   Estou ciente das recomendações acima.   \n",
       "17                                                                                                                                                                                   Estou ciente das recomendações acima.   \n",
       "\n",
       "   IMPORTANTE:\\nOs atendimentos nesta casa são conduzidos em um formato aberto, seguindo o estilo de Gira de Atendimento em Roda, que envolve compartilhamentos.  \n",
       "0                                                                    Estou ciente de que os atendimentos da casa são realizados abertamente em compartilhamento.  \n",
       "1                                                                    Estou ciente de que os atendimentos da casa são realizados abertamente em compartilhamento.  \n",
       "2                                                                    Estou ciente de que os atendimentos da casa são realizados abertamente em compartilhamento.  \n",
       "3                                                                    Estou ciente de que os atendimentos da casa são realizados abertamente em compartilhamento.  \n",
       "4                                                                    Estou ciente de que os atendimentos da casa são realizados abertamente em compartilhamento.  \n",
       "5                                                                    Estou ciente de que os atendimentos da casa são realizados abertamente em compartilhamento.  \n",
       "6                                                                    Estou ciente de que os atendimentos da casa são realizados abertamente em compartilhamento.  \n",
       "7                                                                    Estou ciente de que os atendimentos da casa são realizados abertamente em compartilhamento.  \n",
       "8                                                                    Estou ciente de que os atendimentos da casa são realizados abertamente em compartilhamento.  \n",
       "9                                                                    Estou ciente de que os atendimentos da casa são realizados abertamente em compartilhamento.  \n",
       "10                                                                   Estou ciente de que os atendimentos da casa são realizados abertamente em compartilhamento.  \n",
       "11                                                                   Estou ciente de que os atendimentos da casa são realizados abertamente em compartilhamento.  \n",
       "12                                                                   Estou ciente de que os atendimentos da casa são realizados abertamente em compartilhamento.  \n",
       "13                                                                   Estou ciente de que os atendimentos da casa são realizados abertamente em compartilhamento.  \n",
       "14                                                                   Estou ciente de que os atendimentos da casa são realizados abertamente em compartilhamento.  \n",
       "15                                                                   Estou ciente de que os atendimentos da casa são realizados abertamente em compartilhamento.  \n",
       "16                                                                   Estou ciente de que os atendimentos da casa são realizados abertamente em compartilhamento.  \n",
       "17                                                                   Estou ciente de que os atendimentos da casa são realizados abertamente em compartilhamento.  "
      ],
      "text/html": [
       "<div>\n",
       "<style scoped>\n",
       "    .dataframe tbody tr th:only-of-type {\n",
       "        vertical-align: middle;\n",
       "    }\n",
       "\n",
       "    .dataframe tbody tr th {\n",
       "        vertical-align: top;\n",
       "    }\n",
       "\n",
       "    .dataframe thead th {\n",
       "        text-align: right;\n",
       "    }\n",
       "</style>\n",
       "<table border=\"1\" class=\"dataframe\">\n",
       "  <thead>\n",
       "    <tr style=\"text-align: right;\">\n",
       "      <th></th>\n",
       "      <th>Timestamp</th>\n",
       "      <th>Email Address</th>\n",
       "      <th>Nome completo</th>\n",
       "      <th>Data de nascimento</th>\n",
       "      <th>Celular/whatsapp para contato</th>\n",
       "      <th>Esta será a sua primeira visita à nossa casa?</th>\n",
       "      <th>Necessita de atendimento com o Dr. Chiang?\\nIsto se aplica apenas a problemas de saúde atualmente sob tratamento médico na Terra.</th>\n",
       "      <th>Irá almoçar conosco?</th>\n",
       "      <th>Participará da gira à tarde?</th>\n",
       "      <th>Código de Vestimenta:  \\nPara manter o respeito em nossos encontros religiosos, solicitamos que venham vestidos de forma apropriada ao ambiente. Pedimos que evitem roupas nas cores preta e/ou vermelha, bem como vestimentas coladas ao corpo, curtas e/ou decotadas. Agradecemos pela compreensão e cooperação.</th>\n",
       "      <th>Em caso de desistência:\\nSolicitamos que nos informe o mais cedo possível. Nossa capacidade para a gira é de 20 participantes. A lista de participantes será divulgada no grupo de WhatsApp da casa para aqueles que tenham preenchido o formulário.\\nAqueles que preencherem o formulário após o limite de participantes serão automaticamente adicionados à lista de espera. Sempre que houver uma desistência na lista de participantes, substituiremos o nome pelo próximo da lista de espera.</th>\n",
       "      <th>Pedimos encarecidamente que, antes da defumação, evitem tocar ou abraçar os membros da casa. A limpeza é realizada previamente para garantir a eficácia do trabalho e a proteção da casa, e é importante que seja respeitada.</th>\n",
       "      <th>É aconselhável usar agasalhos e repelente, considerando que o ambiente é rural. Além disso, sugerimos o uso de calçados que possam ser facilmente retirados e colocados, já que estaremos descalços durante o trabalho.</th>\n",
       "      <th>IMPORTANTE:\\nOs atendimentos nesta casa são conduzidos em um formato aberto, seguindo o estilo de Gira de Atendimento em Roda, que envolve compartilhamentos.</th>\n",
       "    </tr>\n",
       "  </thead>\n",
       "  <tbody>\n",
       "    <tr>\n",
       "      <th>0</th>\n",
       "      <td>10/23/2023 22:08:55</td>\n",
       "      <td>zemauriciomenezes@gmail.com</td>\n",
       "      <td>José Maurício Sant Anna Menezes</td>\n",
       "      <td>14/08/1963</td>\n",
       "      <td>(61)981875223</td>\n",
       "      <td>Não</td>\n",
       "      <td>Sim. Confirmo que estou atualmente sob tratamento médico e me comprometo a chegar pontualmente e respeitar a ordem de atendimento.</td>\n",
       "      <td>Sim</td>\n",
       "      <td>Sim</td>\n",
       "      <td>Estou ciente das orientações sobre o código de vestimenta.</td>\n",
       "      <td>Comprometo-me a comunicar minha desistência, a fim de possibilitar que outras pessoas tenham a oportunidade de participar.</td>\n",
       "      <td>Estou ciente da solicitação de evitar tocar e/ou abraçar os membros da casa antes da defumação.</td>\n",
       "      <td>Estou ciente das recomendações acima.</td>\n",
       "      <td>Estou ciente de que os atendimentos da casa são realizados abertamente em compartilhamento.</td>\n",
       "    </tr>\n",
       "    <tr>\n",
       "      <th>1</th>\n",
       "      <td>10/23/2023 22:09:51</td>\n",
       "      <td>profbelcosta@gmail.com</td>\n",
       "      <td>Ana Isabel Lopes da Costa</td>\n",
       "      <td>18/12/1969</td>\n",
       "      <td>61981526224</td>\n",
       "      <td>Não</td>\n",
       "      <td>Sim. Confirmo que estou atualmente sob tratamento médico e me comprometo a chegar pontualmente e respeitar a ordem de atendimento.</td>\n",
       "      <td>Sim</td>\n",
       "      <td>Sim</td>\n",
       "      <td>Estou ciente das orientações sobre o código de vestimenta.</td>\n",
       "      <td>Comprometo-me a comunicar minha desistência, a fim de possibilitar que outras pessoas tenham a oportunidade de participar.</td>\n",
       "      <td>Estou ciente da solicitação de evitar tocar e/ou abraçar os membros da casa antes da defumação.</td>\n",
       "      <td>Estou ciente das recomendações acima.</td>\n",
       "      <td>Estou ciente de que os atendimentos da casa são realizados abertamente em compartilhamento.</td>\n",
       "    </tr>\n",
       "    <tr>\n",
       "      <th>2</th>\n",
       "      <td>10/23/2023 22:10:58</td>\n",
       "      <td>lucio.campello@gmail.com</td>\n",
       "      <td>Lucio Tobias Campello Silva</td>\n",
       "      <td>22/03/1969</td>\n",
       "      <td>61 981635559</td>\n",
       "      <td>Sim</td>\n",
       "      <td>Não</td>\n",
       "      <td>Sim</td>\n",
       "      <td>Sim</td>\n",
       "      <td>Estou ciente das orientações sobre o código de vestimenta.</td>\n",
       "      <td>Comprometo-me a comunicar minha desistência, a fim de possibilitar que outras pessoas tenham a oportunidade de participar.</td>\n",
       "      <td>Estou ciente da solicitação de evitar tocar e/ou abraçar os membros da casa antes da defumação.</td>\n",
       "      <td>Estou ciente das recomendações acima.</td>\n",
       "      <td>Estou ciente de que os atendimentos da casa são realizados abertamente em compartilhamento.</td>\n",
       "    </tr>\n",
       "    <tr>\n",
       "      <th>3</th>\n",
       "      <td>10/23/2023 22:12:04</td>\n",
       "      <td>lhpetrola@icloud.com</td>\n",
       "      <td>Lucas Henrique novais de Araújo petrola</td>\n",
       "      <td>06/01/1997</td>\n",
       "      <td>61999387022</td>\n",
       "      <td>Não</td>\n",
       "      <td>Sim. Confirmo que estou atualmente sob tratamento médico e me comprometo a chegar pontualmente e respeitar a ordem de atendimento.</td>\n",
       "      <td>Sim</td>\n",
       "      <td>Sim</td>\n",
       "      <td>Estou ciente das orientações sobre o código de vestimenta.</td>\n",
       "      <td>Comprometo-me a comunicar minha desistência, a fim de possibilitar que outras pessoas tenham a oportunidade de participar.</td>\n",
       "      <td>Estou ciente da solicitação de evitar tocar e/ou abraçar os membros da casa antes da defumação.</td>\n",
       "      <td>Estou ciente das recomendações acima.</td>\n",
       "      <td>Estou ciente de que os atendimentos da casa são realizados abertamente em compartilhamento.</td>\n",
       "    </tr>\n",
       "    <tr>\n",
       "      <th>4</th>\n",
       "      <td>10/23/2023 22:12:47</td>\n",
       "      <td>gracisouza77@gmail.com</td>\n",
       "      <td>Maria das Graças de Souza Silva</td>\n",
       "      <td>09/06/1953</td>\n",
       "      <td>62984427148</td>\n",
       "      <td>Sim</td>\n",
       "      <td>Sim. Confirmo que estou atualmente sob tratamento médico e me comprometo a chegar pontualmente e respeitar a ordem de atendimento.</td>\n",
       "      <td>Sim</td>\n",
       "      <td>Sim</td>\n",
       "      <td>Estou ciente das orientações sobre o código de vestimenta.</td>\n",
       "      <td>Comprometo-me a comunicar minha desistência, a fim de possibilitar que outras pessoas tenham a oportunidade de participar.</td>\n",
       "      <td>Estou ciente da solicitação de evitar tocar e/ou abraçar os membros da casa antes da defumação.</td>\n",
       "      <td>Estou ciente das recomendações acima.</td>\n",
       "      <td>Estou ciente de que os atendimentos da casa são realizados abertamente em compartilhamento.</td>\n",
       "    </tr>\n",
       "    <tr>\n",
       "      <th>5</th>\n",
       "      <td>10/23/2023 22:13:48</td>\n",
       "      <td>bibica.bassbeth@hotmail.com</td>\n",
       "      <td>Bianca Bassbeth</td>\n",
       "      <td>23/11/1996</td>\n",
       "      <td>61983254769</td>\n",
       "      <td>Não</td>\n",
       "      <td>Sim. Confirmo que estou atualmente sob tratamento médico e me comprometo a chegar pontualmente e respeitar a ordem de atendimento.</td>\n",
       "      <td>Sim</td>\n",
       "      <td>Sim</td>\n",
       "      <td>Estou ciente das orientações sobre o código de vestimenta.</td>\n",
       "      <td>Comprometo-me a comunicar minha desistência, a fim de possibilitar que outras pessoas tenham a oportunidade de participar.</td>\n",
       "      <td>Estou ciente da solicitação de evitar tocar e/ou abraçar os membros da casa antes da defumação.</td>\n",
       "      <td>Estou ciente das recomendações acima.</td>\n",
       "      <td>Estou ciente de que os atendimentos da casa são realizados abertamente em compartilhamento.</td>\n",
       "    </tr>\n",
       "    <tr>\n",
       "      <th>6</th>\n",
       "      <td>10/23/2023 22:15:20</td>\n",
       "      <td>borela@gmail.com</td>\n",
       "      <td>Shakti Prates Borela</td>\n",
       "      <td>22/11/1971</td>\n",
       "      <td>61 981635995</td>\n",
       "      <td>Sim</td>\n",
       "      <td>Sim. Confirmo que estou atualmente sob tratamento médico e me comprometo a chegar pontualmente e respeitar a ordem de atendimento.</td>\n",
       "      <td>Sim</td>\n",
       "      <td>Sim</td>\n",
       "      <td>Estou ciente das orientações sobre o código de vestimenta.</td>\n",
       "      <td>Comprometo-me a comunicar minha desistência, a fim de possibilitar que outras pessoas tenham a oportunidade de participar.</td>\n",
       "      <td>Estou ciente da solicitação de evitar tocar e/ou abraçar os membros da casa antes da defumação.</td>\n",
       "      <td>Estou ciente das recomendações acima.</td>\n",
       "      <td>Estou ciente de que os atendimentos da casa são realizados abertamente em compartilhamento.</td>\n",
       "    </tr>\n",
       "    <tr>\n",
       "      <th>7</th>\n",
       "      <td>10/23/2023 22:15:20</td>\n",
       "      <td>gracielle25@hotmail.com</td>\n",
       "      <td>Gracielle de Souza Silva</td>\n",
       "      <td>18/10/1977</td>\n",
       "      <td>61995405816</td>\n",
       "      <td>Não</td>\n",
       "      <td>Não</td>\n",
       "      <td>Sim</td>\n",
       "      <td>Sim</td>\n",
       "      <td>Estou ciente das orientações sobre o código de vestimenta.</td>\n",
       "      <td>Comprometo-me a comunicar minha desistência, a fim de possibilitar que outras pessoas tenham a oportunidade de participar.</td>\n",
       "      <td>Estou ciente da solicitação de evitar tocar e/ou abraçar os membros da casa antes da defumação.</td>\n",
       "      <td>Estou ciente das recomendações acima.</td>\n",
       "      <td>Estou ciente de que os atendimentos da casa são realizados abertamente em compartilhamento.</td>\n",
       "    </tr>\n",
       "    <tr>\n",
       "      <th>8</th>\n",
       "      <td>10/23/2023 22:17:23</td>\n",
       "      <td>rafa.spuzzillo@gmail.com</td>\n",
       "      <td>Rafael Spuzzillo Mendes</td>\n",
       "      <td>29/05/1985</td>\n",
       "      <td>61999785777</td>\n",
       "      <td>Não</td>\n",
       "      <td>Não</td>\n",
       "      <td>Sim</td>\n",
       "      <td>Sim</td>\n",
       "      <td>Estou ciente das orientações sobre o código de vestimenta.</td>\n",
       "      <td>Comprometo-me a comunicar minha desistência, a fim de possibilitar que outras pessoas tenham a oportunidade de participar.</td>\n",
       "      <td>Estou ciente da solicitação de evitar tocar e/ou abraçar os membros da casa antes da defumação.</td>\n",
       "      <td>Estou ciente das recomendações acima.</td>\n",
       "      <td>Estou ciente de que os atendimentos da casa são realizados abertamente em compartilhamento.</td>\n",
       "    </tr>\n",
       "    <tr>\n",
       "      <th>9</th>\n",
       "      <td>10/23/2023 22:19:29</td>\n",
       "      <td>drilyra@gmail.com</td>\n",
       "      <td>Adriana de Paula Lyra</td>\n",
       "      <td>02/11/1970</td>\n",
       "      <td>61993150330</td>\n",
       "      <td>Não</td>\n",
       "      <td>Não</td>\n",
       "      <td>Não</td>\n",
       "      <td>Sim</td>\n",
       "      <td>Estou ciente das orientações sobre o código de vestimenta.</td>\n",
       "      <td>Comprometo-me a comunicar minha desistência, a fim de possibilitar que outras pessoas tenham a oportunidade de participar.</td>\n",
       "      <td>Estou ciente da solicitação de evitar tocar e/ou abraçar os membros da casa antes da defumação.</td>\n",
       "      <td>Estou ciente das recomendações acima.</td>\n",
       "      <td>Estou ciente de que os atendimentos da casa são realizados abertamente em compartilhamento.</td>\n",
       "    </tr>\n",
       "    <tr>\n",
       "      <th>10</th>\n",
       "      <td>10/23/2023 22:39:20</td>\n",
       "      <td>guipereirasants@gmail.com</td>\n",
       "      <td>Guilherme Pereira dos Santos</td>\n",
       "      <td>04/11/2005</td>\n",
       "      <td>61994017681</td>\n",
       "      <td>Sim</td>\n",
       "      <td>Não</td>\n",
       "      <td>Não</td>\n",
       "      <td>Sim</td>\n",
       "      <td>Estou ciente das orientações sobre o código de vestimenta.</td>\n",
       "      <td>Comprometo-me a comunicar minha desistência, a fim de possibilitar que outras pessoas tenham a oportunidade de participar.</td>\n",
       "      <td>Estou ciente da solicitação de evitar tocar e/ou abraçar os membros da casa antes da defumação.</td>\n",
       "      <td>Estou ciente das recomendações acima.</td>\n",
       "      <td>Estou ciente de que os atendimentos da casa são realizados abertamente em compartilhamento.</td>\n",
       "    </tr>\n",
       "    <tr>\n",
       "      <th>11</th>\n",
       "      <td>10/23/2023 22:50:47</td>\n",
       "      <td>victormefer@gmail.com</td>\n",
       "      <td>Victor Mesquita Ferreira</td>\n",
       "      <td>23/06/1994</td>\n",
       "      <td>61 98205 8431</td>\n",
       "      <td>Não</td>\n",
       "      <td>Não</td>\n",
       "      <td>Não</td>\n",
       "      <td>Sim</td>\n",
       "      <td>Estou ciente das orientações sobre o código de vestimenta.</td>\n",
       "      <td>Comprometo-me a comunicar minha desistência, a fim de possibilitar que outras pessoas tenham a oportunidade de participar.</td>\n",
       "      <td>Estou ciente da solicitação de evitar tocar e/ou abraçar os membros da casa antes da defumação.</td>\n",
       "      <td>Estou ciente das recomendações acima.</td>\n",
       "      <td>Estou ciente de que os atendimentos da casa são realizados abertamente em compartilhamento.</td>\n",
       "    </tr>\n",
       "    <tr>\n",
       "      <th>12</th>\n",
       "      <td>10/23/2023 22:54:35</td>\n",
       "      <td>izaiasgvieira@gmail.com</td>\n",
       "      <td>Izaias Godinho Vieira</td>\n",
       "      <td>13/09/1996</td>\n",
       "      <td>92 9 9295 6750</td>\n",
       "      <td>Não</td>\n",
       "      <td>Não</td>\n",
       "      <td>Não</td>\n",
       "      <td>Sim</td>\n",
       "      <td>Estou ciente das orientações sobre o código de vestimenta.</td>\n",
       "      <td>Comprometo-me a comunicar minha desistência, a fim de possibilitar que outras pessoas tenham a oportunidade de participar.</td>\n",
       "      <td>Estou ciente da solicitação de evitar tocar e/ou abraçar os membros da casa antes da defumação.</td>\n",
       "      <td>Estou ciente das recomendações acima.</td>\n",
       "      <td>Estou ciente de que os atendimentos da casa são realizados abertamente em compartilhamento.</td>\n",
       "    </tr>\n",
       "    <tr>\n",
       "      <th>13</th>\n",
       "      <td>10/24/2023 0:10:36</td>\n",
       "      <td>marinacbonotto@gmail.com</td>\n",
       "      <td>Marina da Costa Bonotto</td>\n",
       "      <td>19/10/1998</td>\n",
       "      <td>61936180448</td>\n",
       "      <td>Não</td>\n",
       "      <td>Não</td>\n",
       "      <td>Sim</td>\n",
       "      <td>Sim</td>\n",
       "      <td>Estou ciente das orientações sobre o código de vestimenta.</td>\n",
       "      <td>Comprometo-me a comunicar minha desistência, a fim de possibilitar que outras pessoas tenham a oportunidade de participar.</td>\n",
       "      <td>Estou ciente da solicitação de evitar tocar e/ou abraçar os membros da casa antes da defumação.</td>\n",
       "      <td>Estou ciente das recomendações acima.</td>\n",
       "      <td>Estou ciente de que os atendimentos da casa são realizados abertamente em compartilhamento.</td>\n",
       "    </tr>\n",
       "    <tr>\n",
       "      <th>14</th>\n",
       "      <td>10/24/2023 7:25:46</td>\n",
       "      <td>jaquelinek@gmail.com</td>\n",
       "      <td>Jaqueline Kelly de Souza</td>\n",
       "      <td>30/08/1092</td>\n",
       "      <td>61982744688</td>\n",
       "      <td>Não</td>\n",
       "      <td>Não</td>\n",
       "      <td>Não</td>\n",
       "      <td>Sim</td>\n",
       "      <td>Estou ciente das orientações sobre o código de vestimenta.</td>\n",
       "      <td>Comprometo-me a comunicar minha desistência, a fim de possibilitar que outras pessoas tenham a oportunidade de participar.</td>\n",
       "      <td>Estou ciente da solicitação de evitar tocar e/ou abraçar os membros da casa antes da defumação.</td>\n",
       "      <td>Estou ciente das recomendações acima.</td>\n",
       "      <td>Estou ciente de que os atendimentos da casa são realizados abertamente em compartilhamento.</td>\n",
       "    </tr>\n",
       "    <tr>\n",
       "      <th>15</th>\n",
       "      <td>10/24/2023 9:34:21</td>\n",
       "      <td>erikacostar@gmail.com</td>\n",
       "      <td>Erika Rêgo Costa</td>\n",
       "      <td>03/08/1993</td>\n",
       "      <td>61982374646</td>\n",
       "      <td>Não</td>\n",
       "      <td>Não</td>\n",
       "      <td>Não</td>\n",
       "      <td>Sim</td>\n",
       "      <td>Estou ciente das orientações sobre o código de vestimenta.</td>\n",
       "      <td>Comprometo-me a comunicar minha desistência, a fim de possibilitar que outras pessoas tenham a oportunidade de participar.</td>\n",
       "      <td>Estou ciente da solicitação de evitar tocar e/ou abraçar os membros da casa antes da defumação.</td>\n",
       "      <td>Estou ciente das recomendações acima.</td>\n",
       "      <td>Estou ciente de que os atendimentos da casa são realizados abertamente em compartilhamento.</td>\n",
       "    </tr>\n",
       "    <tr>\n",
       "      <th>16</th>\n",
       "      <td>10/24/2023 9:51:53</td>\n",
       "      <td>bruno.dssnts@gmail.com</td>\n",
       "      <td>Bruno dos Santos Pacheco</td>\n",
       "      <td>09/12/1994</td>\n",
       "      <td>61 981328795</td>\n",
       "      <td>Não</td>\n",
       "      <td>Não</td>\n",
       "      <td>Não</td>\n",
       "      <td>Sim</td>\n",
       "      <td>Estou ciente das orientações sobre o código de vestimenta.</td>\n",
       "      <td>Comprometo-me a comunicar minha desistência, a fim de possibilitar que outras pessoas tenham a oportunidade de participar.</td>\n",
       "      <td>Estou ciente da solicitação de evitar tocar e/ou abraçar os membros da casa antes da defumação.</td>\n",
       "      <td>Estou ciente das recomendações acima.</td>\n",
       "      <td>Estou ciente de que os atendimentos da casa são realizados abertamente em compartilhamento.</td>\n",
       "    </tr>\n",
       "    <tr>\n",
       "      <th>17</th>\n",
       "      <td>10/24/2023 10:27:50</td>\n",
       "      <td>nadiafap@gmail.com</td>\n",
       "      <td>Nádia Batista Teixeira</td>\n",
       "      <td>18.10.1987</td>\n",
       "      <td>61 98252-8892</td>\n",
       "      <td>Não</td>\n",
       "      <td>Sim. Confirmo que estou atualmente sob tratamento médico e me comprometo a chegar pontualmente e respeitar a ordem de atendimento.</td>\n",
       "      <td>Sim</td>\n",
       "      <td>Sim</td>\n",
       "      <td>Estou ciente das orientações sobre o código de vestimenta.</td>\n",
       "      <td>Comprometo-me a comunicar minha desistência, a fim de possibilitar que outras pessoas tenham a oportunidade de participar.</td>\n",
       "      <td>Estou ciente da solicitação de evitar tocar e/ou abraçar os membros da casa antes da defumação.</td>\n",
       "      <td>Estou ciente das recomendações acima.</td>\n",
       "      <td>Estou ciente de que os atendimentos da casa são realizados abertamente em compartilhamento.</td>\n",
       "    </tr>\n",
       "  </tbody>\n",
       "</table>\n",
       "</div>"
      ]
     },
     "execution_count": 42,
     "metadata": {},
     "output_type": "execute_result"
    }
   ],
   "execution_count": 42
  },
  {
   "metadata": {
    "ExecuteTime": {
     "end_time": "2024-11-14T02:34:22.102321Z",
     "start_time": "2024-11-14T02:34:22.096241Z"
    }
   },
   "cell_type": "code",
   "source": "lista_gira.shape",
   "id": "b40a3f72ff1020e6",
   "outputs": [
    {
     "data": {
      "text/plain": [
       "(18, 14)"
      ]
     },
     "execution_count": 43,
     "metadata": {},
     "output_type": "execute_result"
    }
   ],
   "execution_count": 43
  }
 ],
 "metadata": {
  "kernelspec": {
   "display_name": "Python 3",
   "language": "python",
   "name": "python3"
  },
  "language_info": {
   "codemirror_mode": {
    "name": "ipython",
    "version": 2
   },
   "file_extension": ".py",
   "mimetype": "text/x-python",
   "name": "python",
   "nbconvert_exporter": "python",
   "pygments_lexer": "ipython2",
   "version": "2.7.6"
  }
 },
 "nbformat": 4,
 "nbformat_minor": 5
}
